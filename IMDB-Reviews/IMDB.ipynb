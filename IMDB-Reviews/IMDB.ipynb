{
 "cells": [
  {
   "cell_type": "markdown",
   "metadata": {},
   "source": [
    "## Changelog\n",
    "\n",
    "#### 17/01/25\n",
    "- Found the dataset that I want to use from this link (https://www.geeksforgeeks.org/dataset-for-sentiment-analysis/#1-imdb-reviews-dataset)\n",
    "- This is a sentiment analysis dataset taken from IMDB movie reviews and it is used to find out whether or not a review is positive or negative based on the words used in the reviews\n",
    "- It has 50,000 rows, it is a good starting point whilst getting used to the new model and I want to see how accurate I can get it at predicting sentiments\n",
    "- The dataset only contains 2 columns as it is the full text of the review and then whether it is a positive or negative review\n",
    "- A multinomial Bayesian Classifier seems to be the best fit for this dataset as this will have a high number of features which multinomial bayesian classifiers are good at handling. I tried a few different types of classifier but multinomial works best, multinomial works by counting word frequencies in each category, calculating probabilities, and choosing the category with the highest likelihood. This works well for this dataset as they are very set categories as they're either positive or negative.\n",
    "- I used JakeVDP's notebook on this as a base guideline but have had to change a lot of aspects as he was using sample data so I had to adapt it for my own dataset.\n",
    "- I had to change a lot for this to work such as figuring out how to make my data fit with a pipeline as the example he used takes a different structure.\n",
    "\n",
    "#### 29/01/25\n",
    "\n",
    "- I now understand the function of the pipeline as it combines the 2 other functions into one model so that the now numerical data can be analysed by the model. This took me just over an hour as I wanted to fully understand how it was working as the concept was initially confusing me. (This link http://scikit-learn.org/stable/modules/generated/sklearn.pipeline.make_pipeline.html and chatgpt helped me understand the concept)\n",
    "- I now have a basic version working of this model with a decent accuracy rating of 70%, I want to see if I can improve this anymore.\n",
    "- I now have a good version of the model working with an 86% accuracy rating which for a sentiment analysis model like this is quite a good rating.\n",
    "\n",
    "#### 31/01/25\n",
    "- I have seen what words are contributing to predicting each of the reviews and a lot of them are filler words so I want to see if I can remove these and it might improve the accuracy rating of the model too as for false positives and negatives it could be coming form these words as they will appear in both positive and negative reviews\n",
    "- I have now removed filler words and it has upped the accuracy to 87% which isn't major but it is still an improvement, it also now makes more sense with the words that are the most common in each review as they are traditionally positive and negative words\n",
    "- I now want to see if I can create my own neutral list of words as there are still a lot of the top words that don't really apply to either of the fields, this might up the accuracy again.\n",
    "- I have tried this and the words look more realistic now but unfortunately it didn't help with the accuracy.\n",
    "\n",
    "## Final Overview\n",
    "\n",
    "- My model now has an accuracy rating of 87% which I am quite happy with as it's unlikely to get a really high level of accuracy (over 90%) due to a few reasons\n",
    "- If I had a little bit more time I would try to get some sort of detector for sarcasm as this is definitely dropping the accuracy as it could be seeing positive words put into a review but bbeing used sarcastically so this is providing a false result\n",
    "- I haven't deployed this model but I would have some sort of input box maybe on a website where you can enter your review and then the model could process this and display the result on screen for the user.\n",
    "- There wasn't a whole lot of preprocessing for this model, one thing that I did do to filter the dataset was removing stop words, I did this as when I looked at the words that were having the biggest affect on predicting whether the review was positive or negative it was words such as It, Has, Can, etc. Removing this did bump the accuracy and then I added my own custom list of words that I found were appearing a lot too which didn't bump the accuracy but gave better words for the most prevalent decision making words.\n",
    "- I took a good bit of time on this model to understand how pipelines work, I was working off of JakeVDP's Jupyter Notebook and he used this but didn't really explain how they work so I went and researched myself.\n",
    "![Pipeline Diagram](Pipeline.png)\n",
    "- This diagram is a good visualisation as to how they work, the main place that I used for research was SciKit Learn's documentation (read more here: https://scikit-learn.org/stable/modules/generated/sklearn.pipeline.Pipeline.html)\n",
    "- Pipelines work by combining multiple different preprocessing steps and your model into a single object so you don't have to do them all individually which is very helpful when you are using a few different types of preprocessing\n"
   ]
  },
  {
   "cell_type": "code",
   "execution_count": 2,
   "metadata": {},
   "outputs": [
    {
     "name": "stdout",
     "output_type": "stream",
     "text": [
      "                                              review sentiment\n",
      "0  One of the other reviewers has mentioned that ...  positive\n",
      "1  A wonderful little production. <br /><br />The...  positive\n",
      "2  I thought this was a wonderful way to spend ti...  positive\n",
      "3  Basically there's a family where a little boy ...  negative\n",
      "4  Petter Mattei's \"Love in the Time of Money\" is...  positive\n"
     ]
    }
   ],
   "source": [
    "import pandas as pd\n",
    "import numpy as np\n",
    "import matplotlib.pyplot as plt\n",
    "import seaborn as sns\n",
    "\n",
    "ds = pd.read_csv('IMDB-Dataset.csv')\n",
    "print(ds.head())\n",
    "# This isjust importing the data and printing the first 5 rows of the data to ensure that the data is imported correctly"
   ]
  },
  {
   "cell_type": "code",
   "execution_count": 3,
   "metadata": {},
   "outputs": [],
   "source": [
    "custom_stopwords = {\"seen\", \"think\", \"watch\", \"movies\", \"life\", \"just\", \"film\", \"movie\", \"films\", \"br\", \"just\"}\n",
    "\n",
    "# Function to remove custom words\n",
    "def remove_custom_words(text):\n",
    "    words = text.split()  # Split into words\n",
    "    cleaned_words = [word for word in words if word.lower() not in custom_stopwords]\n",
    "    return \" \".join(cleaned_words)\n",
    "\n",
    "# Apply the function to the text column\n",
    "ds[\"cleaned_review\"] = ds[\"review\"].apply(remove_custom_words)"
   ]
  },
  {
   "cell_type": "code",
   "execution_count": 4,
   "metadata": {},
   "outputs": [],
   "source": [
    "categories = ['Positive', 'Negative']\n",
    "\n",
    "from sklearn.model_selection import train_test_split\n",
    "\n",
    "X = ds['review']\n",
    "y = ds['sentiment']\n",
    "\n",
    "X_train, X_test, y_train, y_test = train_test_split(X, y, test_size=0.2, random_state=42)\n",
    "\n",
    "#  This is splitting the data into training and testing data using an 80/20 split\n"
   ]
  },
  {
   "cell_type": "code",
   "execution_count": 5,
   "metadata": {},
   "outputs": [],
   "source": [
    "from sklearn.feature_extraction.text import TfidfVectorizer\n",
    "from sklearn.naive_bayes import MultinomialNB\n",
    "from sklearn.pipeline import make_pipeline\n",
    "\n",
    "model = make_pipeline(TfidfVectorizer(stop_words='english'), MultinomialNB())\n",
    "\n"
   ]
  },
  {
   "cell_type": "markdown",
   "metadata": {},
   "source": [
    "This was obtained from Jake VanderPlas' book Python Data Science Handbook.\n",
    "The TfidfVectorizer converts the text data into numerical data that can be used by the model.\n",
    "The MultinomialNB is the model that is used to predict the sentiment of the reviews.\n",
    "The make_pipeline is used to combine the TfidfVectorizer and MultinomialNB into a single model.\n",
    "<br>\n",
    "\n",
    "I tried a couple of different types of model to use here but I eventually decided to go with multinomial as it performs well with smaller datasets such as the one used in this model, it also handles word frequency which for a model such as this one is vital."
   ]
  },
  {
   "cell_type": "code",
   "execution_count": 6,
   "metadata": {},
   "outputs": [],
   "source": [
    "model.fit(X_train, y_train)\n",
    "labels = model.predict(X_test)\n",
    "\n",
    "# This is fitting the model to the training data and then predicting the sentiment of the reviews in the testing data"
   ]
  },
  {
   "cell_type": "code",
   "execution_count": 7,
   "metadata": {},
   "outputs": [
    {
     "data": {
      "image/png": "[encoded data removed]",
      "text/plain": [
       "<Figure size 640x480 with 1 Axes>"
      ]
     },
     "metadata": {},
     "output_type": "display_data"
    }
   ],
   "source": [
    "from sklearn.metrics import confusion_matrix\n",
    "mat = confusion_matrix(y_test, labels)\n",
    "sns.heatmap(mat.T, square=True, annot=True, fmt='d', cbar=False,\n",
    "            xticklabels=categories, yticklabels=categories)\n",
    "plt.xlabel('true label')\n",
    "plt.ylabel('predicted label');\n",
    "\n",
    "# This is creating a confusion matrix to show the accuracy of the model\n",
    "# As can be seen from the confusion matrix, the model is very accurate in predicting the sentiment of the reviews but it is not perfect as it does have a decent amount of false results"
   ]
  },
  {
   "cell_type": "code",
   "execution_count": 12,
   "metadata": {},
   "outputs": [
    {
     "name": "stdout",
     "output_type": "stream",
     "text": [
      "Positive Review\n"
     ]
    }
   ],
   "source": [
    "example_reviews = [\"This movie was an interesting one! Overall it was good however there were some issues, i did enjoy it\"]\n",
    "\n",
    "result = model.predict(example_reviews)\n",
    "if result[0] == 'positive':\n",
    "    print('Positive Review')\n",
    "else:\n",
    "    print('Negative Review')\n",
    "\n",
    "# This is just an example of how the model can be used to predict the sentiment of a review"
   ]
  },
  {
   "cell_type": "code",
   "execution_count": 9,
   "metadata": {},
   "outputs": [
    {
     "name": "stdout",
     "output_type": "stream",
     "text": [
      "              precision    recall  f1-score   support\n",
      "\n",
      "    Positive       0.86      0.88      0.87      4961\n",
      "    Negative       0.88      0.85      0.86      5039\n",
      "\n",
      "    accuracy                           0.87     10000\n",
      "   macro avg       0.87      0.87      0.87     10000\n",
      "weighted avg       0.87      0.87      0.87     10000\n",
      "\n"
     ]
    }
   ],
   "source": [
    "from sklearn.metrics import classification_report\n",
    "\n",
    "classification_report(y_test, labels, target_names=['Positive', 'Negative'])\n",
    "\n",
    "print(classification_report(y_test, labels, target_names=['Positive', 'Negative']))\n",
    "\n",
    "#  This is printing the classification report which shows the precision, recall and f1-score of the model"
   ]
  },
  {
   "cell_type": "code",
   "execution_count": 10,
   "metadata": {},
   "outputs": [
    {
     "name": "stdout",
     "output_type": "stream",
     "text": [
      "Top words associated with Positive sentiment:\n",
      "way, films, seen, think, watch, movies, life, people, best, love, really, time, just, story, like, good, great, film, movie, br\n",
      "Top words associated with Negative sentiment:\n",
      "seen, better, worst, watch, people, make, story, plot, acting, movies, time, don, really, good, like, just, bad, film, movie, br\n"
     ]
    }
   ],
   "source": [
    "vectorizer = model.named_steps['tfidfvectorizer']\n",
    "classifier = model.named_steps['multinomialnb']\n",
    "\n",
    "feature_names = np.array(vectorizer.get_feature_names_out())\n",
    "log_probabilities = classifier.feature_log_prob_\n",
    "\n",
    "# Identify top N words contributing to positive and negative sentiment\n",
    "top_n = 20  # Number of top words to display\n",
    "\n",
    "# Get top words for positive and negative sentiment\n",
    "top_positive_words = feature_names[np.argsort(log_probabilities[1])[-top_n:]]\n",
    "top_negative_words = feature_names[np.argsort(log_probabilities[0])[-top_n:]]\n",
    "\n",
    "# Display results\n",
    "print(\"Top words associated with Positive sentiment:\")\n",
    "print(\", \".join(top_positive_words))\n",
    "\n",
    "print(\"Top words associated with Negative sentiment:\")\n",
    "print(\", \".join(top_negative_words))\n",
    "\n",
    "# This was partially obtained from ChatGPT and it is used to identify the top words that contribute to positive and negative sentiment"
   ]
  },
  {
   "cell_type": "markdown",
   "metadata": {},
   "source": [
    " This is interesting and it isn't the words that I was expecting to see in the results for determining what are going to be the positive and negative reviews, I think a lot of these words are filler words that aren't really affecting it but they just happen to be prevalent in the results so I want to see if I can get rid of these\n",
    "\n",
    "\n",
    " #### Solution:\n",
    " I found on google that there is a parameter that I can add to the Tfid Vectoriser that removes common english filler words (stop words), this made the model slightly more accurate and it made the top words for each, more along the lines of what they should be with typical positive and negative words."
   ]
  }
 ],
 "metadata": {
  "kernelspec": {
   "display_name": "Python 3",
   "language": "python",
   "name": "python3"
  },
  "language_info": {
   "codemirror_mode": {
    "name": "ipython",
    "version": 3
   },
   "file_extension": ".py",
   "mimetype": "text/x-python",
   "name": "python",
   "nbconvert_exporter": "python",
   "pygments_lexer": "ipython3",
   "version": "3.12.3"
  }
 },
 "nbformat": 4,
 "nbformat_minor": 2
}
