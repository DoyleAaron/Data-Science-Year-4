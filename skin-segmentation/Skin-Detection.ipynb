{
 "cells": [
  {
   "cell_type": "markdown",
   "metadata": {},
   "source": [
    "## Changelog\n",
    "\n",
    "#### 06/02/25\n",
    "- I have found a image classification dataset from this link (https://archive.ics.uci.edu/dataset/229/skin+segmentation)\n",
    "- For this model I will be using a Support Vector Machine, I am using this as they can be effective on image classifcation models due to the following reasons:\n",
    "    1. They work well with small to medium sized datasets (anything not in the millions)\n",
    "    2. There isn't a lot of features in my dataset so it won't be computationally intense\n",
    "    3. They are strong with binary classification which fits with my selected dataset\n",
    "- This dataset is taken from the University of California, Irvine website\n",
    "- This dataset contains 245,000 rows and it has 4 columns, the first three are the RGB (Red,Green,Blue) values of the image and then the fourth is a binary value that states whether it is or isn't skin\n",
    "- I wanted to try this dataset as it will be a challenge working with image classifcation as I haven't used it in the past."
   ]
  },
  {
   "cell_type": "code",
   "execution_count": 2,
   "metadata": {},
   "outputs": [
    {
     "name": "stdout",
     "output_type": "stream",
     "text": [
      "    B   G    R  Skin\n",
      "0  74  85  123     1\n",
      "1  73  84  122     1\n",
      "2  72  83  121     1\n",
      "3  70  81  119     1\n",
      "4  70  81  119     1\n"
     ]
    }
   ],
   "source": [
    "import pandas as pd\n",
    "import numpy as np\n",
    "import matplotlib.pyplot as plt\n",
    "import seaborn as sns\n",
    "\n",
    "ds = pd.read_csv('Skin_NonSkin.txt', sep='\\t', header=None, names=['B', 'G', 'R', 'Skin'])\n",
    "print(ds.head())\n",
    "\n",
    "# This is just to import the needed libraries and load the dataset"
   ]
  },
  {
   "cell_type": "markdown",
   "metadata": {},
   "source": [
    "The data is currently quite unorganised, I want to add some labels to the columns as it will help me visualise it better"
   ]
  },
  {
   "cell_type": "code",
   "execution_count": null,
   "metadata": {},
   "outputs": [],
   "source": []
  }
 ],
 "metadata": {
  "kernelspec": {
   "display_name": "Python 3",
   "language": "python",
   "name": "python3"
  },
  "language_info": {
   "codemirror_mode": {
    "name": "ipython",
    "version": 3
   },
   "file_extension": ".py",
   "mimetype": "text/x-python",
   "name": "python",
   "nbconvert_exporter": "python",
   "pygments_lexer": "ipython3",
   "version": "3.12.3"
  }
 },
 "nbformat": 4,
 "nbformat_minor": 2
}
