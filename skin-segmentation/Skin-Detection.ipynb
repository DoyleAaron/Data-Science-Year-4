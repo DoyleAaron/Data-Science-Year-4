{
 "cells": [
  {
   "cell_type": "markdown",
   "metadata": {},
   "source": [
    "## Changelog\n",
    "\n",
    "#### 06/02/25\n",
    "- I have found a image classification dataset from this link (https://archive.ics.uci.edu/dataset/229/skin+segmentation)\n",
    "- For this model I will be using a Support Vector Machine, I am using this as they can be effective on image classifcation models due to the following reasons:\n",
    "    1. They work well with small to medium sized datasets (anything not in the millions)\n",
    "    2. There isn't a lot of features in my dataset so it won't be computationally intense\n",
    "    3. They are strong with binary classification which fits with my selected dataset\n",
    "- This dataset is taken from the University of California, Irvine website\n",
    "- This dataset contains 245,000 rows and it has 4 columns, the first three are the RGB (Red,Green,Blue) values of the image and then the fourth is a binary value that states whether it is or isn't skin\n",
    "- I wanted to try this dataset as it will be a challenge working with image classifcation as I haven't used it in the past."
   ]
  }
 ],
 "metadata": {
  "language_info": {
   "name": "python"
  }
 },
 "nbformat": 4,
 "nbformat_minor": 2
}
