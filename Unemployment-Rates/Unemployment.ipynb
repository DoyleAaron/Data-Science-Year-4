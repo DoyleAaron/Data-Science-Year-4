{
 "cells": [
  {
   "cell_type": "code",
   "execution_count": 193,
   "metadata": {},
   "outputs": [],
   "source": [
    "%matplotlib inline\n",
    "import matplotlib.pyplot as plt\n",
    "import seaborn as sns\n",
    "import numpy as np\n",
    "import pandas as pd\n",
    "import ipywidgets as wdgt\n",
    "from sklearn.linear_model import LinearRegression\n",
    "\n",
    "df = pd.read_csv('Unemployment_Rates.csv')\n",
    "\n",
    "df.columns = df.columns.str.strip()  # This was obtained by ChatGPT and will remove any leading or trailing spaces from all column names, this was an issue wth the unemployment rate\n",
    "df = df.drop(['Labor Force', 'Unemployed', 'Employed'], axis = 1) # In this line I am dropping 3 columns from my dataset as they aren't necessary for my predictions\n",
    "df.to_csv('updated_unemployment.csv', index=False)\n",
    "df = pd.read_csv('updated_unemployment.csv') # This is the newly updated dataset which will be used for the predictions\n",
    "\n",
    "# This is a basic import file to get the necessary libraries and allows pandas to read the file\n",
    "# I had issues getting the file to read but i tried restarting my kernel on VScode and it began to work\n"
   ]
  },
  {
   "cell_type": "code",
   "execution_count": null,
   "metadata": {},
   "outputs": [],
   "source": [
    "areas = df[\"Area\"].unique()\n",
    "dropdown = wdgt.Dropdown(options = areas)\n",
    "selected_area = None\n",
    "\n",
    "def on_value_change(change):\n",
    "    global selected_area\n",
    "    selected_area = change['new']\n",
    "\n",
    "dropdown.observe(on_value_change, names='value')\n",
    "\n",
    "# The code for the function on_value_change and the line below it were obtained from ChatGPT to store the currently selected value into a global variable so that I can use it for the graphs\n",
    "\n",
    "display(dropdown)\n",
    "\n",
    "# This gets all the unique areas in the state of New York, I orignally had every value which was over 91,000 so I checked the pandas documentation here (https://pandas.pydata.org/docs/reference/api/pandas.Index.unique.html#pandas.Index.unique)\n",
    "# and I found the unique keyword which just displays each of then once into the dropdown menu"
   ]
  },
  {
   "cell_type": "code",
   "execution_count": null,
   "metadata": {},
   "outputs": [],
   "source": [
    "selected_data = df[df['Area'] == selected_area]\n",
    "\n",
    "unemployment_rates = selected_data['Unemployment Rate']\n",
    "year = selected_data['Year']\n",
    "month = selected_data['Month']\n",
    "\n",
    "print(year)\n",
    "print(month)\n",
    "print(unemployment_rates)\n",
    "\n",
    "# This is retrieving the unemployment rate, month and year\n"
   ]
  },
  {
   "cell_type": "code",
   "execution_count": 196,
   "metadata": {},
   "outputs": [],
   "source": [
    "covid_filtered_df = df[(df['Area'] == selected_area) & (df['Year'] == 2021)]\n",
    "normal_filtered_df = df[(df['Area'] == selected_area) & (df['Year'] == 2015)]"
   ]
  },
  {
   "cell_type": "code",
   "execution_count": null,
   "metadata": {},
   "outputs": [],
   "source": [
    "normal_filtered_df.plot.scatter(x = 'Month', y = 'Unemployment Rate', title = selected_area + ', 2015')\n",
    "covid_filtered_df.plot.scatter(x = 'Month', y = 'Unemployment Rate', title = selected_area + ', 2021')\n",
    "\n",
    "# A big factor that has an affect on my data was covid as you can see it nearly doubles for most areas when the lockdown hit"
   ]
  },
  {
   "cell_type": "code",
   "execution_count": null,
   "metadata": {},
   "outputs": [],
   "source": [
    "model = LinearRegression(fit_intercept=True)\n",
    "\n",
    "x = covid_filtered_df[['Month']]\n",
    "y = covid_filtered_df['Unemployment Rate'] \n",
    "\n",
    "model.fit(x,y)\n",
    "xfit = np.linspace(0, 10, 1000)\n",
    "yfit = model.predict(xfit[:, np.newaxis])\n",
    "\n",
    "plt.scatter(x, y)\n",
    "plt.plot(xfit, yfit)\n"
   ]
  },
  {
   "cell_type": "code",
   "execution_count": 215,
   "metadata": {},
   "outputs": [],
   "source": [
    "# From my findings the month is going to be too specific as there are too many points to plot so I am going to combine them into an average for the year \n",
    "df = pd.read_csv('Unemployment_rates.csv')\n",
    "\n",
    "df.columns = df.columns.str.strip()\n",
    "average_unemployment = df.groupby(['Area', 'Year'])['Unemployment Rate'].mean().reset_index()\n",
    "\n",
    "# Round the average unemployment rate to one decimal place\n",
    "average_unemployment['Unemployment Rate'] = average_unemployment['Unemployment Rate'].round(1)\n",
    "\n",
    "# Step 3: Save the results to a new CSV file\n",
    "average_unemployment.to_csv('cleaned-unemployment-rates.csv', index=False)\n"
   ]
  },
  {
   "cell_type": "code",
   "execution_count": 216,
   "metadata": {},
   "outputs": [
    {
     "data": {
      "application/vnd.jupyter.widget-view+json": {
       "model_id": "d5a3dbdef3a34a84994ae7fc2231f591",
       "version_major": 2,
       "version_minor": 0
      },
      "text/plain": [
       "Dropdown(options=('Albany City', 'Albany County', 'Albany-Rensselaer-Schenectady Counties', 'Albany-Schenectad…"
      ]
     },
     "metadata": {},
     "output_type": "display_data"
    }
   ],
   "source": [
    "df = pd.read_csv('cleaned-unemployment-rates.csv')\n",
    "areas = df[\"Area\"].unique()\n",
    "dropdown = wdgt.Dropdown(options = areas)\n",
    "new_selected_area = None\n",
    "\n",
    "def on_value_change(change):\n",
    "    global new_selected_area\n",
    "    new_selected_area = change['new']\n",
    "\n",
    "dropdown.observe(on_value_change, names='value')\n",
    "\n",
    "# The code for the function on_value_change and the line below it were obtained from ChatGPT to store the currently selected value into a global variable so that I can use it for the graphs\n",
    "\n",
    "display(dropdown)"
   ]
  },
  {
   "cell_type": "code",
   "execution_count": 218,
   "metadata": {},
   "outputs": [
    {
     "data": {
      "text/plain": [
       "<Axes: title={'center': 'Albany-Rensselaer-Schenectady Counties'}, xlabel='Year', ylabel='Unemployment Rate'>"
      ]
     },
     "execution_count": 218,
     "metadata": {},
     "output_type": "execute_result"
    },
    {
     "data": {
      "image/png": "[encoded data removed]",
      "text/plain": [
       "<Figure size 640x480 with 1 Axes>"
      ]
     },
     "metadata": {},
     "output_type": "display_data"
    }
   ],
   "source": [
    "filtered_df = df[df['Area'] == new_selected_area]\n",
    "filtered_df.plot.scatter(x = 'Year', y = 'Unemployment Rate', title = new_selected_area)"
   ]
  }
 ],
 "metadata": {
  "kernelspec": {
   "display_name": "Python 3",
   "language": "python",
   "name": "python3"
  },
  "language_info": {
   "codemirror_mode": {
    "name": "ipython",
    "version": 3
   },
   "file_extension": ".py",
   "mimetype": "text/x-python",
   "name": "python",
   "nbconvert_exporter": "python",
   "pygments_lexer": "ipython3",
   "version": "3.12.3"
  }
 },
 "nbformat": 4,
 "nbformat_minor": 2
}
