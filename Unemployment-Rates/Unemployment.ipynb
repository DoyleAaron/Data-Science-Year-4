{
 "cells": [
  {
   "cell_type": "code",
   "execution_count": 1,
   "metadata": {},
   "outputs": [
    {
     "name": "stdout",
     "output_type": "stream",
     "text": [
      "             Area  Year  Month  Labor Force  Employed  Unemployed  \\\n",
      "0  New York State  2024      1      9650100   9230300      419800   \n",
      "1  New York State  2024      2      9712100   9274100      438000   \n",
      "2  New York State  2024      3      9718000   9309100      408900   \n",
      "3  New York State  2024      4      9663200   9283700      379500   \n",
      "4  New York State  2024      5      9678300   9272300      406000   \n",
      "\n",
      "   Unemployment Rate                                                                                                                                                                        \n",
      "0                                                4.3                                                                                                                                        \n",
      "1                                                4.5                                                                                                                                        \n",
      "2                                                4.2                                                                                                                                        \n",
      "3                                                3.9                                                                                                                                        \n",
      "4                                                4.2                                                                                                                                        \n"
     ]
    }
   ],
   "source": [
    "%matplotlib inline\n",
    "import matplotlib.pyplot as plt\n",
    "import seaborn as sns\n",
    "import numpy as np\n",
    "import pandas as pd\n",
    "import ipywidgets as wdgt\n",
    "\n",
    "df = pd.read_csv('unemployment-rates.csv')\n",
    "\n",
    "# This is a basic import file to get the necessary libraries and allows pandas to read the file\n",
    "# I had issues getting the file to read but i tried restarting my kernel on VScode and it began to work\n"
   ]
  },
  {
   "cell_type": "code",
   "execution_count": 3,
   "metadata": {},
   "outputs": [
    {
     "data": {
      "application/vnd.jupyter.widget-view+json": {
       "model_id": "ff100fa9164a4c29b4951001f82146ad",
       "version_major": 2,
       "version_minor": 0
      },
      "text/plain": [
       "Dropdown(options=('New York State', 'Albany County', 'Allegany County', 'Bronx County', 'Broome County', 'Catt…"
      ]
     },
     "metadata": {},
     "output_type": "display_data"
    }
   ],
   "source": [
    "areas = df[\"Area\"].unique()\n",
    "dropdown = wdgt.Dropdown(options = areas)\n",
    "display(dropdown)"
   ]
  }
 ],
 "metadata": {
  "kernelspec": {
   "display_name": "Python 3",
   "language": "python",
   "name": "python3"
  },
  "language_info": {
   "codemirror_mode": {
    "name": "ipython",
    "version": 3
   },
   "file_extension": ".py",
   "mimetype": "text/x-python",
   "name": "python",
   "nbconvert_exporter": "python",
   "pygments_lexer": "ipython3",
   "version": "3.12.3"
  }
 },
 "nbformat": 4,
 "nbformat_minor": 2
}
