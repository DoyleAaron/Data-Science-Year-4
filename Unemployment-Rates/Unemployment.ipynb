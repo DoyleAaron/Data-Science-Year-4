{
 "cells": [
  {
   "cell_type": "code",
   "execution_count": 10,
   "metadata": {},
   "outputs": [],
   "source": [
    "%matplotlib inline\n",
    "import matplotlib.pyplot as plt\n",
    "import seaborn as sns\n",
    "import numpy as np\n",
    "import pandas as pd\n",
    "import ipywidgets as wdgt\n",
    "\n",
    "df = pd.read_csv('unemployment-rates.csv')\n",
    "\n",
    "df.columns = df.columns.str.strip()  # This was obtained by ChatGPT and will remove any leading or trailing spaces from all column names, this was an issue wth the unemployment rate\n",
    "\n",
    "\n",
    "# This is a basic import file to get the necessary libraries and allows pandas to read the file\n",
    "# I had issues getting the file to read but i tried restarting my kernel on VScode and it began to work\n"
   ]
  },
  {
   "cell_type": "code",
   "execution_count": 11,
   "metadata": {},
   "outputs": [
    {
     "data": {
      "application/vnd.jupyter.widget-view+json": {
       "model_id": "ea7cb8d06fdb4e28914cedd5f242a4d4",
       "version_major": 2,
       "version_minor": 0
      },
      "text/plain": [
       "Dropdown(options=('New York State', 'Albany County', 'Allegany County', 'Bronx County', 'Broome County', 'Catt…"
      ]
     },
     "metadata": {},
     "output_type": "display_data"
    }
   ],
   "source": [
    "areas = df[\"Area\"].unique()\n",
    "dropdown = wdgt.Dropdown(options = areas)\n",
    "selected_area = None\n",
    "\n",
    "def on_value_change(change):\n",
    "    global selected_area\n",
    "    selected_area = change['new']\n",
    "\n",
    "dropdown.observe(on_value_change, names='value')\n",
    "\n",
    "# The code for the function on_value_change and the line below it were obtained from ChatGPT to store the currently selected value into a global variable so that I can use it for the graphs\n",
    "\n",
    "display(dropdown)\n",
    "\n",
    "# This gets all the unique areas in the state of New York, I orignally had every value which was over 91,000 so I checked the pandas documentation here (https://pandas.pydata.org/docs/reference/api/pandas.Index.unique.html#pandas.Index.unique)\n",
    "# and I found the unique keyword which just displays each of then once into the dropdown menu"
   ]
  },
  {
   "cell_type": "code",
   "execution_count": 9,
   "metadata": {},
   "outputs": [
    {
     "name": "stdout",
     "output_type": "stream",
     "text": [
      "1414    2024\n",
      "1415    2024\n",
      "1416    2024\n",
      "1417    2024\n",
      "1418    2024\n",
      "        ... \n",
      "1824    1990\n",
      "1825    1990\n",
      "1826    1990\n",
      "1827    1990\n",
      "1828    1990\n",
      "Name: Year, Length: 415, dtype: int64\n",
      "1414     1\n",
      "1415     2\n",
      "1416     3\n",
      "1417     4\n",
      "1418     5\n",
      "        ..\n",
      "1824     8\n",
      "1825     9\n",
      "1826    10\n",
      "1827    11\n",
      "1828    12\n",
      "Name: Month, Length: 415, dtype: int64\n",
      "1414    6.0\n",
      "1415    6.2\n",
      "1416    5.7\n",
      "1417    5.7\n",
      "1418    6.3\n",
      "       ... \n",
      "1824    8.4\n",
      "1825    8.8\n",
      "1826    8.9\n",
      "1827    9.3\n",
      "1828    8.4\n",
      "Name: Unemployment Rate, Length: 415, dtype: float64\n"
     ]
    }
   ],
   "source": [
    "selected_data = df[df['Area'] == selected_area]\n",
    "\n",
    "unemployment_rates = selected_data['Unemployment Rate']\n",
    "year = selected_data['Year']\n",
    "month = selected_data['Month']\n",
    "\n",
    "print(year)\n",
    "print(month)\n",
    "print(unemployment_rates)\n",
    "\n",
    "# This is retrieving the unemployment rate, month and year\n"
   ]
  },
  {
   "cell_type": "code",
   "execution_count": 14,
   "metadata": {},
   "outputs": [],
   "source": [
    "#In this code block I am combining the year and month columns so that it can display easier on the graph\n",
    "df['Year'] = df['Year'].astype(str)\n",
    "df['Month'] = df['Month'].astype(str)\n",
    "\n",
    "# Combine Year and Month into a new column\n",
    "df['Year & Month'] = df['Year'] + ', ' + df['Month']\n",
    "\n",
    "# Save the modified Dataset to a new CSV\n",
    "df.to_csv('Concat-unemployment-rates.csv', index=False)"
   ]
  }
 ],
 "metadata": {
  "kernelspec": {
   "display_name": "Python 3",
   "language": "python",
   "name": "python3"
  },
  "language_info": {
   "codemirror_mode": {
    "name": "ipython",
    "version": 3
   },
   "file_extension": ".py",
   "mimetype": "text/x-python",
   "name": "python",
   "nbconvert_exporter": "python",
   "pygments_lexer": "ipython3",
   "version": "3.12.3"
  }
 },
 "nbformat": 4,
 "nbformat_minor": 2
}
