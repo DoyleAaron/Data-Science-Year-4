{
 "cells": [
  {
   "cell_type": "code",
   "execution_count": 81,
   "metadata": {},
   "outputs": [],
   "source": [
    "%matplotlib inline\n",
    "import matplotlib.pyplot as plt\n",
    "import seaborn as sns\n",
    "import numpy as np\n",
    "import pandas as pd\n",
    "import ipywidgets as wdgt\n",
    "from sklearn.linear_model import LinearRegression\n",
    "\n",
    "df = pd.read_csv('unemployment-rates.csv')\n",
    "\n",
    "df.columns = df.columns.str.strip()  # This was obtained by ChatGPT and will remove any leading or trailing spaces from all column names, this was an issue wth the unemployment rate\n",
    "df.drop(['Labor Force', 'Unemployed', 'Employed'], axis = 1) # In this line I am dropping 3 columns from my dataset as they aren't necessary for my predictions\n",
    "df.to_csv('updated_unemployment.csv', index=False)\n",
    "df = pd.read_csv('updated_unemployment.csv')\n",
    "\n",
    "# This is a basic import file to get the necessary libraries and allows pandas to read the file\n",
    "# I had issues getting the file to read but i tried restarting my kernel on VScode and it began to work\n"
   ]
  },
  {
   "cell_type": "code",
   "execution_count": null,
   "metadata": {},
   "outputs": [],
   "source": [
    "areas = df[\"Area\"].unique()\n",
    "dropdown = wdgt.Dropdown(options = areas)\n",
    "selected_area = None\n",
    "\n",
    "def on_value_change(change):\n",
    "    global selected_area\n",
    "    selected_area = change['new']\n",
    "\n",
    "dropdown.observe(on_value_change, names='value')\n",
    "\n",
    "# The code for the function on_value_change and the line below it were obtained from ChatGPT to store the currently selected value into a global variable so that I can use it for the graphs\n",
    "\n",
    "display(dropdown)\n",
    "\n",
    "# This gets all the unique areas in the state of New York, I orignally had every value which was over 91,000 so I checked the pandas documentation here (https://pandas.pydata.org/docs/reference/api/pandas.Index.unique.html#pandas.Index.unique)\n",
    "# and I found the unique keyword which just displays each of then once into the dropdown menu"
   ]
  },
  {
   "cell_type": "code",
   "execution_count": null,
   "metadata": {},
   "outputs": [],
   "source": [
    "selected_data = df[df['Area'] == selected_area]\n",
    "\n",
    "unemployment_rates = selected_data['Unemployment Rate']\n",
    "year = selected_data['Year']\n",
    "month = selected_data['Month']\n",
    "\n",
    "print(year)\n",
    "print(month)\n",
    "print(unemployment_rates)\n",
    "\n",
    "# This is retrieving the unemployment rate, month and year\n"
   ]
  },
  {
   "cell_type": "code",
   "execution_count": null,
   "metadata": {},
   "outputs": [],
   "source": [
    "filtered_df = df[(df['Area'] == selected_area) & (df['Year'] >= 2010) & (df['Year'] <= 2020)]\n",
    "print(filtered_df)"
   ]
  },
  {
   "cell_type": "code",
   "execution_count": null,
   "metadata": {},
   "outputs": [],
   "source": []
  }
 ],
 "metadata": {
  "kernelspec": {
   "display_name": "Python 3",
   "language": "python",
   "name": "python3"
  },
  "language_info": {
   "codemirror_mode": {
    "name": "ipython",
    "version": 3
   },
   "file_extension": ".py",
   "mimetype": "text/x-python",
   "name": "python",
   "nbconvert_exporter": "python",
   "pygments_lexer": "ipython3",
   "version": "3.12.3"
  }
 },
 "nbformat": 4,
 "nbformat_minor": 2
}
