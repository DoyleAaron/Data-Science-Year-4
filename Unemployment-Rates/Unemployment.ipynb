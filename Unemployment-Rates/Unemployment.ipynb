{
 "cells": [
  {
   "cell_type": "code",
   "execution_count": 4,
   "metadata": {},
   "outputs": [],
   "source": [
    "%matplotlib inline\n",
    "import matplotlib.pyplot as plt\n",
    "import seaborn as sns\n",
    "import numpy as np\n",
    "import pandas as pd\n",
    "import ipywidgets as wdgt\n",
    "\n",
    "df = pd.read_csv('unemployment-rates.csv')\n",
    "\n",
    "# This is a basic import file to get the necessary libraries and allows pandas to read the file\n",
    "# I had issues getting the file to read but i tried restarting my kernel on VScode and it began to work\n"
   ]
  },
  {
   "cell_type": "code",
   "execution_count": 6,
   "metadata": {},
   "outputs": [
    {
     "data": {
      "application/vnd.jupyter.widget-view+json": {
       "model_id": "d05f20e4f0fe4632a12c34c032dd7194",
       "version_major": 2,
       "version_minor": 0
      },
      "text/plain": [
       "Dropdown(options=('New York State', 'Albany County', 'Allegany County', 'Bronx County', 'Broome County', 'Catt…"
      ]
     },
     "metadata": {},
     "output_type": "display_data"
    },
    {
     "name": "stdout",
     "output_type": "stream",
     "text": [
      "None\n"
     ]
    },
    {
     "name": "stdout",
     "output_type": "stream",
     "text": [
      "Selected area: Albany County\n",
      "Selected area: Cattaraugus County\n"
     ]
    }
   ],
   "source": [
    "areas = df[\"Area\"].unique()\n",
    "dropdown = wdgt.Dropdown(options = areas)\n",
    "selected_area = None\n",
    "\n",
    "\n",
    "def on_value_change(change):\n",
    "    global selected_area  # Use the global variable\n",
    "    selected_area = change['new']  # Update with the new value\n",
    "    \n",
    "dropdown.observe(on_value_change, names='value')\n",
    "\n",
    "# Display the dropdown\n",
    "display(dropdown)\n",
    "\n",
    "# This gets all the unique areas in the state of New York, I orignally had every value which was over 91,000 so I checked the pandas documentation here (https://pandas.pydata.org/docs/reference/api/pandas.Index.unique.html#pandas.Index.unique)\n",
    "# and I found the unique keyword which just displays each of then once into the dropdown menu"
   ]
  },
  {
   "cell_type": "code",
   "execution_count": null,
   "metadata": {},
   "outputs": [],
   "source": []
  }
 ],
 "metadata": {
  "kernelspec": {
   "display_name": "Python 3",
   "language": "python",
   "name": "python3"
  },
  "language_info": {
   "codemirror_mode": {
    "name": "ipython",
    "version": 3
   },
   "file_extension": ".py",
   "mimetype": "text/x-python",
   "name": "python",
   "nbconvert_exporter": "python",
   "pygments_lexer": "ipython3",
   "version": "3.12.3"
  }
 },
 "nbformat": 4,
 "nbformat_minor": 2
}
