{
 "cells": [
  {
   "cell_type": "code",
   "execution_count": 3,
   "metadata": {},
   "outputs": [
    {
     "name": "stdout",
     "output_type": "stream",
     "text": [
      "<bound method NDFrame.head of              Date         Open         High          Low        Close  \\\n",
      "0      1927-12-30    17.660000    17.660000    17.660000    17.660000   \n",
      "1      1928-01-03    17.760000    17.760000    17.760000    17.760000   \n",
      "2      1928-01-04    17.719999    17.719999    17.719999    17.719999   \n",
      "3      1928-01-05    17.549999    17.549999    17.549999    17.549999   \n",
      "4      1928-01-06    17.660000    17.660000    17.660000    17.660000   \n",
      "...           ...          ...          ...          ...          ...   \n",
      "23318  2020-10-29  3277.169922  3341.050049  3259.820068  3310.110107   \n",
      "23319  2020-10-30  3293.590088  3304.929932  3233.939941  3269.959961   \n",
      "23320  2020-11-02  3296.199951  3330.139893  3279.739990  3310.239990   \n",
      "23321  2020-11-03  3336.250000  3389.489990  3336.250000  3369.159912   \n",
      "23322  2020-11-04  3406.459961  3486.250000  3405.169922  3443.439941   \n",
      "\n",
      "         Adj Close      Volume  \n",
      "0        17.660000           0  \n",
      "1        17.760000           0  \n",
      "2        17.719999           0  \n",
      "3        17.549999           0  \n",
      "4        17.660000           0  \n",
      "...            ...         ...  \n",
      "23318  3310.110107  4903070000  \n",
      "23319  3269.959961  4840450000  \n",
      "23320  3310.239990  4310590000  \n",
      "23321  3369.159912  4220070000  \n",
      "23322  3443.439941  4783040000  \n",
      "\n",
      "[23323 rows x 7 columns]>\n"
     ]
    }
   ],
   "source": [
    "%matplotlib inline\n",
    "import matplotlib.pyplot as plt\n",
    "import seaborn as sns\n",
    "import numpy as np\n",
    "import pandas as pd\n",
    "import ipywidgets as wdgt\n",
    "from sklearn.linear_model import LinearRegression\n",
    "from sklearn.metrics import r2_score\n",
    "\n",
    "df = pd.read_csv('SPX.csv')\n",
    "# This dataset was acquired from Kaggle from this link: https://www.kaggle.com/datasets/henryhan117/sp-500-historical-data/data\n",
    "# This is a dataset from January 1928 - November 2020, it contains details about the S&P 500's stock price every day within this period"
   ]
  },
  {
   "cell_type": "code",
   "execution_count": 10,
   "metadata": {},
   "outputs": [
    {
     "name": "stdout",
     "output_type": "stream",
     "text": [
      "             Date         Open         High          Low        Close  \\\n",
      "0      1927-12-30    17.660000    17.660000    17.660000    17.660000   \n",
      "1      1928-01-03    17.760000    17.760000    17.760000    17.760000   \n",
      "2      1928-01-04    17.719999    17.719999    17.719999    17.719999   \n",
      "3      1928-01-05    17.549999    17.549999    17.549999    17.549999   \n",
      "4      1928-01-06    17.660000    17.660000    17.660000    17.660000   \n",
      "...           ...          ...          ...          ...          ...   \n",
      "23318  2020-10-29  3277.169922  3341.050049  3259.820068  3310.110107   \n",
      "23319  2020-10-30  3293.590088  3304.929932  3233.939941  3269.959961   \n",
      "23320  2020-11-02  3296.199951  3330.139893  3279.739990  3310.239990   \n",
      "23321  2020-11-03  3336.250000  3389.489990  3336.250000  3369.159912   \n",
      "23322  2020-11-04  3406.459961  3486.250000  3405.169922  3443.439941   \n",
      "\n",
      "         Adj Close      Volume  Year Month  \n",
      "0        17.660000           0  1927    12  \n",
      "1        17.760000           0  1928    01  \n",
      "2        17.719999           0  1928    01  \n",
      "3        17.549999           0  1928    01  \n",
      "4        17.660000           0  1928    01  \n",
      "...            ...         ...   ...   ...  \n",
      "23318  3310.110107  4903070000  2020    10  \n",
      "23319  3269.959961  4840450000  2020    10  \n",
      "23320  3310.239990  4310590000  2020    11  \n",
      "23321  3369.159912  4220070000  2020    11  \n",
      "23322  3443.439941  4783040000  2020    11  \n",
      "\n",
      "[23323 rows x 9 columns]\n"
     ]
    }
   ],
   "source": [
    "# The first thing I want to do is cleanse the data, and by this I mean I want to make sure there's no leading spaces after the column names and then I want to extract the years and months into their own column.\n",
    "df.columns = df.columns.str.strip()\n",
    "df['Year'] = df['Date'].str[:4]\n",
    "df['Month'] = df['Date'].str[5:7] # This was found from here: https://stackoverflow.com/questions/51607400/how-to-extract-first-8-characters-from-a-string-in-pandas\n",
    "\n",
    "print(df)"
   ]
  },
  {
   "cell_type": "code",
   "execution_count": 14,
   "metadata": {},
   "outputs": [],
   "source": [
    "#  Now that I have the years and months I want to extract them into 2 different csvs so that I can use them for displaying different time periods on my charts\n",
    "monthly = df.groupby(['Year', 'Month'])['Open'].mean().reset_index()\n",
    "monthly['Open'] = monthly['Open'].round(1)\n",
    "monthly.to_csv('monthly-data.csv', index=False)\n",
    "\n",
    "yearly = df.groupby(['Year'])['Open'].mean().reset_index()\n",
    "yearly['Open'] = yearly['Open'].round(1)\n",
    "yearly.to_csv('yearly-data.csv', index=False)"
   ]
  },
  {
   "cell_type": "code",
   "execution_count": null,
   "metadata": {},
   "outputs": [],
   "source": []
  }
 ],
 "metadata": {
  "kernelspec": {
   "display_name": "Python 3",
   "language": "python",
   "name": "python3"
  },
  "language_info": {
   "codemirror_mode": {
    "name": "ipython",
    "version": 3
   },
   "file_extension": ".py",
   "mimetype": "text/x-python",
   "name": "python",
   "nbconvert_exporter": "python",
   "pygments_lexer": "ipython3",
   "version": "3.12.3"
  }
 },
 "nbformat": 4,
 "nbformat_minor": 2
}
