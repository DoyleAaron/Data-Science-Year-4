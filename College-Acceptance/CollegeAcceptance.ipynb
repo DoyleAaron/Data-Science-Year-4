{
 "cells": [
  {
   "cell_type": "markdown",
   "metadata": {},
   "source": [
    "# Data Overview\n",
    "\n",
    "This data was obtained from Kaggle from this link (https://www.kaggle.com/datasets/taweilo/mba-admission-dataset). This synthetic dataset is centred around making a decision tree model which "
   ]
  }
 ],
 "metadata": {
  "kernelspec": {
   "display_name": "Python 3",
   "language": "python",
   "name": "python3"
  },
  "language_info": {
   "name": "python",
   "version": "3.12.3"
  }
 },
 "nbformat": 4,
 "nbformat_minor": 2
}
