{
 "cells": [
  {
   "cell_type": "markdown",
   "metadata": {},
   "source": [
    "## Change Log \n",
    "\n",
    "#### Dataset & Model Overview\n",
    "- After getting a decent understanding of how a supervised neural network like the one I did in predicting wine quality with a FFNN, I wanted to try working with image recognition and detection.\n",
    "- I am using this dataset (https://www.cs.toronto.edu/~kriz/cifar.html), this dataset is a subset of the 80 million tiny images dataset.\n",
    "- This dataset has 60,000 images with 10 classes and 6000 images per class.\n",
    "- I want this model to be able to correctly classify the class that the image belongs to.\n",
    "- I am planning to use a Convolutional Neural Network (CNN) for this, I chose a CNN because they are very good at pattern recognition and image detection with classification which is exactly what is needed for this task.\n",
    "\n",
    "#### Learnings & Findings\n",
    "- I am extracting the dataset in the way specified here (https://www.cs.toronto.edu/~kriz/cifar.html) alongside extra code to extract and combine them into a singular csv file.\n",
    "- I am going to try the CNN structure similar to what is found here (https://www.tensorflow.org/tutorials/images/cnn), I used Tensorflow for my last model and it worked well so I am going to try and use it again."
   ]
  },
  {
   "cell_type": "code",
   "execution_count": null,
   "metadata": {},
   "outputs": [],
   "source": [
    "import tensorflow as tf\n",
    "import numpy as np\n",
    "from tensorflow.keras import datasets, layers, models\n",
    "import matplotlib.pyplot as plt\n",
    "from sklearn.preprocessing import StandardScaler\n",
    "from sklearn.model_selection import train_test_split\n",
    "import pandas as pd"
   ]
  },
  {
   "cell_type": "markdown",
   "metadata": {},
   "source": [
    "Here I am just importing the necessary libraries and technologies that I may need to build this model."
   ]
  },
  {
   "cell_type": "code",
   "execution_count": 11,
   "metadata": {},
   "outputs": [
    {
     "name": "stdout",
     "output_type": "stream",
     "text": [
      "CSV file saved successfully!\n"
     ]
    }
   ],
   "source": [
    "import pickle\n",
    "\n",
    "def unpickle(file):\n",
    "    with open(file, 'rb') as fo:\n",
    "        batch = pickle.load(fo, encoding='bytes')\n",
    "    return batch\n",
    "\n",
    "data_list = []\n",
    "labels_list = []\n",
    "\n",
    "# Loop through all batch files\n",
    "for i in range(1, 6):\n",
    "    file = f'data_batch_{i}'  # Modify if needed\n",
    "    batch = unpickle(file)\n",
    "    \n",
    "    data_list.append(batch[b'data'])  # Image data\n",
    "    labels_list.append(batch[b'labels'])  # Labels\n",
    "\n",
    "# Convert lists to NumPy arrays\n",
    "data = np.vstack(data_list)\n",
    "labels = np.hstack(labels_list)\n",
    "\n",
    "# Convert to DataFrame\n",
    "columns = [f'pixel_{i}' for i in range(data.shape[1])]  # Column names for pixels\n",
    "df = pd.DataFrame(data, columns=columns)\n",
    "df.insert(0, 'label', labels)  # Insert labels as the first column\n",
    "\n",
    "# Save to CSV\n",
    "df.to_csv('cifar10_data.csv', index=False)\n",
    "print(\"CSV file saved successfully!\")\n"
   ]
  },
  {
   "cell_type": "markdown",
   "metadata": {},
   "source": [
    "ChatGPT generated this for me as I wanted to store this as a CSV file rather than the way they were initially being handled. \n",
    "\n",
    "What it is doing is, looping through each of the files which has 10,000 images in it and labels of what each image is of so the model can begin to build up an idea of what should be in each class, it then extracts the data and stores it in a pandas dataframe which can then be converted to a singular csv file."
   ]
  },
  {
   "cell_type": "code",
   "execution_count": null,
   "metadata": {},
   "outputs": [],
   "source": [
    "df = pd.read_csv('cifar10_data.csv')\n"
   ]
  }
 ],
 "metadata": {
  "kernelspec": {
   "display_name": "Python 3",
   "language": "python",
   "name": "python3"
  },
  "language_info": {
   "codemirror_mode": {
    "name": "ipython",
    "version": 3
   },
   "file_extension": ".py",
   "mimetype": "text/x-python",
   "name": "python",
   "nbconvert_exporter": "python",
   "pygments_lexer": "ipython3",
   "version": "3.11.6"
  }
 },
 "nbformat": 4,
 "nbformat_minor": 2
}
