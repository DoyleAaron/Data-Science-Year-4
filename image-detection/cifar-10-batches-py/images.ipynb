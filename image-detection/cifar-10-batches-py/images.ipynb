{
 "cells": [
  {
   "cell_type": "markdown",
   "metadata": {},
   "source": [
    "## Change Log \n",
    "\n",
    "#### Dataset & Model Overview\n",
    "- After getting a decent understanding of how a supervised neural network like the one I did in predicting wine quality with a FFNN, I wanted to try an unsupervised model.\n",
    "- I am using this dataset (https://www.cs.toronto.edu/~kriz/cifar.html), this dataset is a subset of the 80 million tiny images dataset.\n",
    "- This dataset has 60,000 images with 10 classes and 6000 images per class.\n",
    "- I want this model to be able to correctly classify the class that the image belongs to.\n",
    "- I am planning to use a Self-Organising Map (SOM) for this as it is good for clustering an image detection which is the task at hand here.\n",
    "\n",
    "#### Learnings & Findings\n",
    "- I am extracting the dataset in the way specified here (https://www.cs.toronto.edu/~kriz/cifar.html)\n",
    "- I am going to try the SOM structure that I found here (https://modelzoo.co/model/som)"
   ]
  },
  {
   "cell_type": "code",
   "execution_count": null,
   "metadata": {},
   "outputs": [],
   "source": [
    "import tensorflow as tf\n",
    "from tensorflow import keras\n",
    "from sklearn.preprocessing import StandardScaler\n",
    "from sklearn.model_selection import train_test_split\n",
    "from somlib import som\n",
    "import pandas as pd"
   ]
  },
  {
   "cell_type": "markdown",
   "metadata": {},
   "source": [
    "Here I am just importing the necessary libraries and technologies that I may need to build this model."
   ]
  }
 ],
 "metadata": {
  "kernelspec": {
   "display_name": "Python 3",
   "language": "python",
   "name": "python3"
  },
  "language_info": {
   "codemirror_mode": {
    "name": "ipython",
    "version": 3
   },
   "file_extension": ".py",
   "mimetype": "text/x-python",
   "name": "python",
   "nbconvert_exporter": "python",
   "pygments_lexer": "ipython3",
   "version": "3.11.6"
  }
 },
 "nbformat": 4,
 "nbformat_minor": 2
}
